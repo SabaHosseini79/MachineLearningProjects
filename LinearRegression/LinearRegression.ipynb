{
 "cells": [
  {
   "cell_type": "code",
   "execution_count": 1,
   "id": "be417e51",
   "metadata": {},
   "outputs": [],
   "source": [
    "#linearRegression with some optimization algorithms"
   ]
  },
  {
   "cell_type": "code",
   "execution_count": 6,
   "id": "dca66f21",
   "metadata": {},
   "outputs": [],
   "source": [
    "import numpy as np\n",
    "import matplotlib.pyplot as plt"
   ]
  },
  {
   "cell_type": "code",
   "execution_count": 7,
   "id": "3d49edfe",
   "metadata": {},
   "outputs": [
    {
     "data": {
      "text/plain": [
       "(1000.0, 1700.0, 0.0, 600.0)"
      ]
     },
     "execution_count": 7,
     "metadata": {},
     "output_type": "execute_result"
    },
    {
     "data": {
      "image/png": "[encoded data removed]",
      "text/plain": [
       "<Figure size 432x288 with 1 Axes>"
      ]
     },
     "metadata": {
      "needs_background": "light"
     },
     "output_type": "display_data"
    }
   ],
   "source": [
    "y = np.array([200, 350,450, 520 ])\n",
    "x = np.array([1254, 1452, 1600, 1678])\n",
    "\n",
    "plt.scatter(x, y)\n",
    "plt.xlabel(\"postal code\")\n",
    "plt.ylabel(\"house price\")\n",
    "plt.axis([1000, 1700, 0, 600])\n"
   ]
  },
  {
   "cell_type": "code",
   "execution_count": 4,
   "id": "8afcebf9",
   "metadata": {},
   "outputs": [],
   "source": [
    "#How can fine the line that mapping values from x to y?"
   ]
  },
  {
   "cell_type": "code",
   "execution_count": null,
   "id": "c391296d",
   "metadata": {},
   "outputs": [],
   "source": []
  },
  {
   "cell_type": "code",
   "execution_count": 5,
   "id": "85f1b3d0",
   "metadata": {},
   "outputs": [],
   "source": [
    "#A common function for a Linear Regression problem is a MSE cost function.\n",
    "#𝐽(Θ)=𝑀𝑆𝐸(𝑋,Θ)=12𝑚∑𝑖=0𝑚(ℎ(Θ)𝑖−𝑦𝑖)2\n",
    "# we use this to find the mapping"
   ]
  },
  {
   "cell_type": "code",
   "execution_count": null,
   "id": "624915b2",
   "metadata": {},
   "outputs": [],
   "source": []
  },
  {
   "cell_type": "code",
   "execution_count": 8,
   "id": "46dcd3b5",
   "metadata": {},
   "outputs": [
    {
     "name": "stdout",
     "output_type": "stream",
     "text": [
      "(50,)\n",
      "(50, 1)\n",
      "x is: [[-0.47016706]\n",
      " [ 0.02611209]\n",
      " [-0.53419442]\n",
      " [-1.06696404]\n",
      " [ 0.31396286]\n",
      " [ 1.20523762]\n",
      " [ 1.06751999]\n",
      " [ 1.01851938]\n",
      " [ 1.12409164]\n",
      " [-0.61742167]\n",
      " [-0.19978665]\n",
      " [-1.85551296]\n",
      " [-0.11277601]\n",
      " [ 0.80733567]\n",
      " [ 0.32822944]\n",
      " [ 0.81830871]\n",
      " [ 0.02925615]\n",
      " [-1.7055026 ]\n",
      " [-0.43071847]\n",
      " [-0.61979725]\n",
      " [-1.08523318]\n",
      " [-1.31585025]\n",
      " [ 2.26456781]\n",
      " [-0.17130561]\n",
      " [-1.47188457]\n",
      " [ 0.24395214]\n",
      " [-0.34089028]\n",
      " [ 0.21283817]\n",
      " [ 0.67724095]\n",
      " [-0.60967591]\n",
      " [-0.62342838]\n",
      " [ 0.39651652]\n",
      " [ 0.81553758]\n",
      " [-0.10689554]\n",
      " [ 0.68285459]\n",
      " [-2.01236485]\n",
      " [ 1.85453156]\n",
      " [ 0.23769505]\n",
      " [-0.4507245 ]\n",
      " [ 0.48243842]\n",
      " [ 1.48059365]\n",
      " [ 0.12614073]\n",
      " [ 1.54125721]\n",
      " [ 1.53837403]\n",
      " [ 0.14226085]\n",
      " [ 0.05787676]\n",
      " [ 1.5769577 ]\n",
      " [-0.56956887]\n",
      " [ 0.44445295]\n",
      " [ 0.4532356 ]]\n",
      "shape of x is: (50, 1)\n",
      "y is:\n",
      " [[-0.94033412]\n",
      " [ 0.05222419]\n",
      " [-1.06838884]\n",
      " [-2.13392808]\n",
      " [ 0.62792572]\n",
      " [ 2.41047524]\n",
      " [ 2.13503999]\n",
      " [ 2.03703877]\n",
      " [ 2.24818329]\n",
      " [-1.23484335]\n",
      " [-0.3995733 ]\n",
      " [-3.71102592]\n",
      " [-0.22555202]\n",
      " [ 1.61467135]\n",
      " [ 0.65645887]\n",
      " [ 1.63661743]\n",
      " [ 0.0585123 ]\n",
      " [-3.41100521]\n",
      " [-0.86143693]\n",
      " [-1.2395945 ]\n",
      " [-2.17046636]\n",
      " [-2.6317005 ]\n",
      " [ 4.52913562]\n",
      " [-0.34261123]\n",
      " [-2.94376914]\n",
      " [ 0.48790427]\n",
      " [-0.68178057]\n",
      " [ 0.42567634]\n",
      " [ 1.3544819 ]\n",
      " [-1.21935183]\n",
      " [-1.24685676]\n",
      " [ 0.79303303]\n",
      " [ 1.63107516]\n",
      " [-0.21379108]\n",
      " [ 1.36570919]\n",
      " [-4.02472971]\n",
      " [ 3.70906313]\n",
      " [ 0.47539009]\n",
      " [-0.90144899]\n",
      " [ 0.96487684]\n",
      " [ 2.96118729]\n",
      " [ 0.25228146]\n",
      " [ 3.08251442]\n",
      " [ 3.07674805]\n",
      " [ 0.28452169]\n",
      " [ 0.11575352]\n",
      " [ 3.15391539]\n",
      " [-1.13913773]\n",
      " [ 0.88890589]\n",
      " [ 0.9064712 ]]\n",
      "shape of y is:\n",
      " (50, 1)\n",
      "y_hat (prediction with theta=0.5) is:\n",
      " [[-0.23508353]\n",
      " [ 0.01305605]\n",
      " [-0.26709721]\n",
      " [-0.53348202]\n",
      " [ 0.15698143]\n",
      " [ 0.60261881]\n",
      " [ 0.53376   ]\n",
      " [ 0.50925969]\n",
      " [ 0.56204582]\n",
      " [-0.30871084]\n",
      " [-0.09989332]\n",
      " [-0.92775648]\n",
      " [-0.05638801]\n",
      " [ 0.40366784]\n",
      " [ 0.16411472]\n",
      " [ 0.40915436]\n",
      " [ 0.01462808]\n",
      " [-0.8527513 ]\n",
      " [-0.21535923]\n",
      " [-0.30989862]\n",
      " [-0.54261659]\n",
      " [-0.65792513]\n",
      " [ 1.13228391]\n",
      " [-0.08565281]\n",
      " [-0.73594229]\n",
      " [ 0.12197607]\n",
      " [-0.17044514]\n",
      " [ 0.10641909]\n",
      " [ 0.33862047]\n",
      " [-0.30483796]\n",
      " [-0.31171419]\n",
      " [ 0.19825826]\n",
      " [ 0.40776879]\n",
      " [-0.05344777]\n",
      " [ 0.3414273 ]\n",
      " [-1.00618243]\n",
      " [ 0.92726578]\n",
      " [ 0.11884752]\n",
      " [-0.22536225]\n",
      " [ 0.24121921]\n",
      " [ 0.74029682]\n",
      " [ 0.06307037]\n",
      " [ 0.7706286 ]\n",
      " [ 0.76918701]\n",
      " [ 0.07113042]\n",
      " [ 0.02893838]\n",
      " [ 0.78847885]\n",
      " [-0.28478443]\n",
      " [ 0.22222647]\n",
      " [ 0.2266178 ]]\n",
      "shape of y_hat (prediction with theta=0.5) is:\n",
      " (50, 1)\n",
      "the cost is: 1.0477116012452374\n"
     ]
    }
   ],
   "source": [
    "#Creating the original function and the hypothesis function\n",
    "m = 50\n",
    "x = np.random.randn(m)\n",
    "print(x.shape)\n",
    "x = x.reshape(-1,1)\n",
    "print(x.shape)\n",
    "y = 2*x\n",
    "theta = 0.5\n",
    "y_hat = theta*x\n",
    "\n",
    "cost = (1/(2*m))*np.sum((y_hat - y)**2)\n",
    "\n",
    "print(f\"x is: {x}\")\n",
    "print(f\"shape of x is: {x.shape}\")\n",
    "print(f\"y is:\\n {y}\")\n",
    "print(f\"shape of y is:\\n {y.shape}\")\n",
    "print(f\"y_hat (prediction with theta=0.5) is:\\n {y_hat}\")\n",
    "print(f\"shape of y_hat (prediction with theta=0.5) is:\\n {y_hat.shape}\")\n",
    "print(f\"the cost is: {cost}\")\n"
   ]
  },
  {
   "cell_type": "code",
   "execution_count": 9,
   "id": "270e0f65",
   "metadata": {},
   "outputs": [],
   "source": [
    "#now we calculate the difference between y and y_hat"
   ]
  },
  {
   "cell_type": "code",
   "execution_count": 12,
   "id": "809fb164",
   "metadata": {},
   "outputs": [
    {
     "data": {
      "text/plain": [
       "<function matplotlib.pyplot.show(close=None, block=None)>"
      ]
     },
     "execution_count": 12,
     "metadata": {},
     "output_type": "execute_result"
    },
    {
     "data": {
      "image/png": "[encoded data removed]",
      "text/plain": [
       "<Figure size 432x288 with 1 Axes>"
      ]
     },
     "metadata": {
      "needs_background": "light"
     },
     "output_type": "display_data"
    }
   ],
   "source": [
    "plt.plot(x,y)\n",
    "plt.plot(x, y_hat)\n",
    "plt.xlabel(\"Postal code\")\n",
    "plt.ylabel(\"Price in k$\")\n",
    "plt.show"
   ]
  },
  {
   "cell_type": "code",
   "execution_count": 13,
   "id": "229efc4d",
   "metadata": {},
   "outputs": [],
   "source": [
    "#Let's calculate linear regression MSE cost function using a python function"
   ]
  },
  {
   "cell_type": "code",
   "execution_count": 16,
   "id": "9fc09540",
   "metadata": {},
   "outputs": [
    {
     "ename": "IndentationError",
     "evalue": "expected an indented block after function definition on line 1 (Temp/ipykernel_8032/727654768.py, line 2)",
     "output_type": "error",
     "traceback": [
      "\u001b[1;36m  File \u001b[1;32m\"C:\\Users\\LEGION\\AppData\\Local\\Temp/ipykernel_8032/727654768.py\"\u001b[1;36m, line \u001b[1;32m2\u001b[0m\n\u001b[1;33m    m = x.shape[0]\u001b[0m\n\u001b[1;37m    ^\u001b[0m\n\u001b[1;31mIndentationError\u001b[0m\u001b[1;31m:\u001b[0m expected an indented block after function definition on line 1\n"
     ]
    }
   ],
   "source": []
  },
  {
   "cell_type": "code",
   "execution_count": 20,
   "id": "556b0171",
   "metadata": {},
   "outputs": [],
   "source": [
    "def compute_cost(x, theta, y):\n",
    "    m = x.shape[0]\n",
    "    y_hat = theta*x\n",
    "    cost = (1/(2*m))*np.sum((y - y_hat)**2)\n",
    "    return cost"
   ]
  },
  {
   "cell_type": "code",
   "execution_count": 21,
   "id": "41b00b08",
   "metadata": {},
   "outputs": [
    {
     "data": {
      "text/plain": [
       "<function matplotlib.pyplot.show(close=None, block=None)>"
      ]
     },
     "execution_count": 21,
     "metadata": {},
     "output_type": "execute_result"
    },
    {
     "data": {
      "image/png": "[encoded data removed]",
      "text/plain": [
       "<Figure size 432x288 with 1 Axes>"
      ]
     },
     "metadata": {
      "needs_background": "light"
     },
     "output_type": "display_data"
    }
   ],
   "source": [
    "costs=[]\n",
    "thetas=[]\n",
    "\n",
    "for th in range(-100, 100):\n",
    "    thetas.append(th)\n",
    "    cost = compute_cost(x=x, theta=th, y=y)\n",
    "    costs.append(cost)\n",
    "    \n",
    "plt.plot(thetas, costs)\n",
    "plt.xlabel('$\\Theta$')\n",
    "plt.ylabel('Cost')\n",
    "plt.show"
   ]
  },
  {
   "cell_type": "code",
   "execution_count": null,
   "id": "d61b1a4f",
   "metadata": {},
   "outputs": [],
   "source": []
  },
  {
   "cell_type": "code",
   "execution_count": 22,
   "id": "6a2a75e1",
   "metadata": {},
   "outputs": [],
   "source": [
    "#we look for the theta that has minimum value. As we see this happens nearby zero\n",
    "#it means, the lowest value of theta minimizes the cost function"
   ]
  },
  {
   "cell_type": "code",
   "execution_count": 55,
   "id": "ef0e2327",
   "metadata": {},
   "outputs": [],
   "source": [
    "\"Batch Gradient Decent Algorithm\"\n",
    "#now we use Gradient Decent Algorithm from Optimization to calculate the minimum value of theta "
   ]
  },
  {
   "cell_type": "code",
   "execution_count": 25,
   "id": "3364c584",
   "metadata": {},
   "outputs": [
    {
     "data": {
      "text/plain": [
       "0.5"
      ]
     },
     "execution_count": 25,
     "metadata": {},
     "output_type": "execute_result"
    }
   ],
   "source": [
    "theta"
   ]
  },
  {
   "cell_type": "code",
   "execution_count": 26,
   "id": "86f8bbc8",
   "metadata": {},
   "outputs": [
    {
     "name": "stdout",
     "output_type": "stream",
     "text": [
      "-1.3969488016603162\n"
     ]
    }
   ],
   "source": [
    "#Define the derivative of the cost function dJ/dtheta\n",
    "dtheta = (1/m)*np.sum(np.dot(x.T, y_hat-y))\n",
    "print(dtheta)"
   ]
  },
  {
   "cell_type": "code",
   "execution_count": 29,
   "id": "f22e0162",
   "metadata": {},
   "outputs": [],
   "source": [
    "def compute_deriv(x, theta, y):\n",
    "    m = x.shape[0]\n",
    "    y_hat = theta*x\n",
    "    \n",
    "    dtheta = (1/m)*np.sum(np.dot(x.T, y_hat-y))\n",
    "    \n",
    "    return dtheta"
   ]
  },
  {
   "cell_type": "code",
   "execution_count": 39,
   "id": "604ce360",
   "metadata": {},
   "outputs": [
    {
     "name": "stdout",
     "output_type": "stream",
     "text": [
      "Cost is 0.1803238109928449\n",
      "dtheta is -0.5795436499836472\n",
      "1.4356584913469734\n"
     ]
    }
   ],
   "source": [
    "tehta = 10\n",
    "c = compute_cost(x, theta, y)\n",
    "print(f'Cost is {c}')\n",
    "d = compute_deriv(x, theta, y)\n",
    "print(f'dtheta is {d}')\n",
    "\n",
    "#set alpha = 0.1\n",
    "#Update Parameter Theta using theta_new = theta_old - learning_rate * derivative\n",
    "theta = theta - 0.1*d\n",
    "print(theta)\n"
   ]
  },
  {
   "cell_type": "code",
   "execution_count": null,
   "id": "32f1d753",
   "metadata": {},
   "outputs": [],
   "source": []
  },
  {
   "cell_type": "code",
   "execution_count": null,
   "id": "f4a907ea",
   "metadata": {},
   "outputs": [],
   "source": [
    "# we need an alpha that called learning rate then we will update the theta with help of alpha\n",
    "#alpha = 0.05\n",
    "#theta = theta - alpha*dtheta"
   ]
  },
  {
   "cell_type": "code",
   "execution_count": 52,
   "id": "06d39d93",
   "metadata": {},
   "outputs": [
    {
     "name": "stdout",
     "output_type": "stream",
     "text": [
      "cost at the 0th itteration is 29.80157443542008\n",
      "theta is: [[9.25496064]]\n",
      "cost at the 100th itteration is 9.621746803362392e-08\n",
      "theta is: [[2.00041223]]\n",
      "cost at the 200th itteration is 3.1064806265618946e-16\n",
      "theta is: [[2.00000002]]\n",
      "cost at the 300th itteration is 1.0024620441017658e-24\n",
      "theta is: [[2.]]\n",
      "cost at the 400th itteration is 2.314407829022127e-30\n",
      "theta is: [[2.]]\n",
      "cost at the 500th itteration is 2.314407829022127e-30\n",
      "theta is: [[2.]]\n",
      "cost at the 600th itteration is 2.314407829022127e-30\n",
      "theta is: [[2.]]\n",
      "cost at the 700th itteration is 2.314407829022127e-30\n",
      "theta is: [[2.]]\n",
      "cost at the 800th itteration is 2.314407829022127e-30\n",
      "theta is: [[2.]]\n",
      "cost at the 900th itteration is 2.314407829022127e-30\n",
      "theta is: [[2.]]\n",
      "theta after optimization is: [[2.]]\n"
     ]
    }
   ],
   "source": [
    "alpha = 0.1\n",
    "\n",
    "itterations = 1000\n",
    "\n",
    "#initialize the parameter\n",
    "theta_init = np.array([10])\n",
    "theta_init = theta_init.reshape(-1, 1)\n",
    "theta = theta_init\n",
    "\n",
    "costs_gd=[]\n",
    "thetas_gd=[]\n",
    "\n",
    "for itt in range(itterations):\n",
    "    cost = compute_cost(x=x, theta=theta, y=y)\n",
    "    costs_gd.append(cost)\n",
    "    \n",
    "    dtheta = compute_deriv(x, theta, y)\n",
    "\n",
    "    theta = theta - alpha*dtheta \n",
    "    thetas_gd.append(theta)\n",
    "    \n",
    "    if itt%100 == 0:\n",
    "        \n",
    "        print(f\"cost at the {itt}th itteration is {cost}\")\n",
    "        print(f\"theta is: {theta}\")\n",
    "        \n",
    "print(f\"theta after optimization is: {thetas_gd[-1]}\")"
   ]
  },
  {
   "cell_type": "code",
   "execution_count": 53,
   "id": "b554a79c",
   "metadata": {},
   "outputs": [
    {
     "data": {
      "image/png": "[encoded data removed]",
      "text/plain": [
       "<Figure size 432x288 with 1 Axes>"
      ]
     },
     "metadata": {
      "needs_background": "light"
     },
     "output_type": "display_data"
    }
   ],
   "source": [
    "plt.plot(thetas, costs)\n",
    "plt.scatter(thetas_gd, costs_gd)\n",
    "plt.axis([0, 10, min(costs_gd), max(costs_gd)+.1])\n",
    "plt.xlabel(\"$\\Theta$\")\n",
    "plt.ylabel(\"Cost\")\n",
    "plt.show()"
   ]
  },
  {
   "cell_type": "code",
   "execution_count": null,
   "id": "49643ccf",
   "metadata": {},
   "outputs": [],
   "source": [
    "\"Normal Equation\""
   ]
  },
  {
   "cell_type": "code",
   "execution_count": 56,
   "id": "7221b52f",
   "metadata": {},
   "outputs": [],
   "source": [
    "#we can use normal equation algorithm just for linear regression without itteration"
   ]
  },
  {
   "cell_type": "code",
   "execution_count": 57,
   "id": "24d84e61",
   "metadata": {},
   "outputs": [
    {
     "name": "stdout",
     "output_type": "stream",
     "text": [
      "[[2.]]\n"
     ]
    }
   ],
   "source": [
    "theta = 0.5\n",
    "y_hat = theta*x\n",
    "theta_pred = np.dot(np.dot(np.linalg.inv(np.dot(x.T, x)), x.T), y)\n",
    "print(theta_pred)"
   ]
  },
  {
   "cell_type": "code",
   "execution_count": null,
   "id": "08f5178a",
   "metadata": {},
   "outputs": [],
   "source": [
    "\"Stochastic Gradient Decent\""
   ]
  },
  {
   "cell_type": "code",
   "execution_count": 58,
   "id": "453d2ac3",
   "metadata": {},
   "outputs": [
    {
     "name": "stdout",
     "output_type": "stream",
     "text": [
      "[[2.]]\n"
     ]
    }
   ],
   "source": [
    "n_epochs = 50  \n",
    "t0, t1 = 5, 50 \n",
    "\n",
    "def learning_schedule(t):\n",
    "    return t0 / (t + t1)     \n",
    "\n",
    "theta = np.random.randn(1,1) \n",
    "\n",
    "\n",
    "for epoch in range(n_epochs):\n",
    "    for i in range(m): \n",
    "        random_index = np.random.randint(m)\n",
    "        \n",
    "        xi = x[random_index:random_index+1]\n",
    "        yi = y[random_index:random_index+1]\n",
    "        \n",
    "        gradients = compute_deriv(xi, theta, yi)\n",
    "        \n",
    "       \n",
    "        theta = theta - learning_rate*gradients\n",
    "        \n",
    "      \n",
    "        learning_rate = learning_schedule(epoch * m + i) \n",
    "        \n",
    "print(theta)"
   ]
  },
  {
   "cell_type": "code",
   "execution_count": null,
   "id": "2e08a922",
   "metadata": {},
   "outputs": [],
   "source": [
    "\"Mini-batch Gradient Decent\""
   ]
  },
  {
   "cell_type": "code",
   "execution_count": 59,
   "id": "087a1045",
   "metadata": {},
   "outputs": [
    {
     "name": "stdout",
     "output_type": "stream",
     "text": [
      "cost at the 0th itteration is 4.112555672053145e-18\n",
      "theta is: [[2.]]\n",
      "cost at the 10th itteration is 4.0313702927092775e-19\n",
      "theta is: [[2.]]\n",
      "cost at the 20th itteration is 3.951778307622794e-20\n",
      "theta is: [[2.]]\n",
      "cost at the 30th itteration is 3.873776532495077e-21\n",
      "theta is: [[2.]]\n",
      "cost at the 40th itteration is 3.7974120882516554e-22\n",
      "theta is: [[2.]]\n",
      "cost at the 50th itteration is 3.722316623447804e-23\n",
      "theta is: [[2.]]\n",
      "cost at the 60th itteration is 3.648284078242276e-24\n",
      "theta is: [[2.]]\n",
      "cost at the 70th itteration is 3.573506060376872e-25\n",
      "theta is: [[2.]]\n",
      "cost at the 80th itteration is 3.5128945646699785e-26\n",
      "theta is: [[2.]]\n",
      "cost at the 90th itteration is 3.401992313086757e-27\n",
      "theta is: [[2.]]\n",
      "theta is: [[2.]]\n"
     ]
    }
   ],
   "source": [
    "m = 50 \n",
    "minibatch_size = 4\n",
    "num_bathces = m // minibatch_size \n",
    "\n",
    "epochs = 100 \n",
    "alpha = 0.01\n",
    "\n",
    "thetas_minigd=[]\n",
    "costs_minigd=[]\n",
    "\n",
    "for i in range(epochs):\n",
    "    for j in range(num_bathces):\n",
    "        \n",
    "        if m % minibatch_size != 0 & j == num_bathces-1:\n",
    "            xm = x[j*minibatch_size:]\n",
    "            ym = y[j*minibatch_size]\n",
    "            \n",
    "        else:\n",
    "           \n",
    "            xm = x[j*minibatch_size:(j+1)*minibatch_size]\n",
    "            ym = y[j*minibatch_size:(j+1)*minibatch_size]\n",
    "        \n",
    "      \n",
    "        cost = compute_cost(xm, theta, ym)\n",
    "        costs_minigd.append(cost)\n",
    "    \n",
    "      \n",
    "        dtheta = compute_deriv(xm, theta, ym)\n",
    "    \n",
    "    \n",
    "        theta = theta - alpha*dtheta\n",
    "        thetas_minigd.append(theta)\n",
    "    \n",
    "    if i%10 == 0:\n",
    "        print(f\"cost at the {i}th itteration is {cost}\")\n",
    "        print(f\"theta is: {theta}\")\n",
    "        \n",
    "print(f\"theta is: {thetas_gd[-1]}\")"
   ]
  }
 ],
 "metadata": {
  "kernelspec": {
   "display_name": "Python 3 (ipykernel)",
   "language": "python",
   "name": "python3"
  },
  "language_info": {
   "codemirror_mode": {
    "name": "ipython",
    "version": 3
   },
   "file_extension": ".py",
   "mimetype": "text/x-python",
   "name": "python",
   "nbconvert_exporter": "python",
   "pygments_lexer": "ipython3",
   "version": "3.10.1"
  }
 },
 "nbformat": 4,
 "nbformat_minor": 5
}
